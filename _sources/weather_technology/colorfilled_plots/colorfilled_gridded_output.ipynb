{
 "cells": [
  {
   "cell_type": "markdown",
   "metadata": {},
   "source": [
    "# Color-filled Contouring\n",
    "\n",
    "This notebook creates an example of overlaying color-filled contours and regular contours over the CONUS."
   ]
  },
  {
   "cell_type": "markdown",
   "metadata": {},
   "source": [
    "## Import Packages"
   ]
  },
  {
   "cell_type": "code",
   "execution_count": null,
   "metadata": {},
   "outputs": [],
   "source": [
    "from datetime import datetime, timedelta\n",
    "\n",
    "from metpy.plots import declarative\n",
    "from metpy.units import units\n",
    "import xarray as xr"
   ]
  },
  {
   "cell_type": "markdown",
   "metadata": {},
   "source": [
    "## Get Data\n",
    "\n",
    "Here we use data available from the NCAR Research Data Archive (RDA) from the quarter degree GFS.\n",
    "\n",
    "You can find other data available at this resource: https://rda.ucar.edu/thredds"
   ]
  },
  {
   "cell_type": "code",
   "execution_count": null,
   "metadata": {},
   "outputs": [],
   "source": [
    "# Set the date/time of the model run\n",
    "date = datetime(2017, 2, 24, 12)\n",
    "\n",
    "# Remote access to the dataset from the NCAR RDA site\n",
    "ds = xr.open_dataset('https://rda.ucar.edu/thredds/dodsC/files/g/ds083.3/'\n",
    "                     f'{date:%Y}/{date:%Y%m}/gdas1.fnl0p25.{date:%Y%m%d%H}.f00.grib2')\n",
    "\n",
    "# Subset data to be just over the U.S. for plotting purposes\n",
    "ds = ds.sel(lat=slice(70,10), lon=slice(360-140, 360-60))"
   ]
  },
  {
   "cell_type": "markdown",
   "metadata": {},
   "source": [
    "## Plot Data\n",
    "\n",
    "Here we demonstrate the use of [`FilledContourPlot()`](../../appendix/metpy_declarative_filledcontourplot.md) for having the computer draw color-filled contours of a variable. Many of the attributes are the same as [`ContourPlot()`](../../appendix/metpy_declarative_contourplot.md), but there are also other specific attributes for setting things like colorbars and a colormap. Only a small subset of atttributes are used in this example, but your plot can be further customized using a host of different attributes, which you can read about in the MetPy documentation.\n",
    "\n",
    "MetPy `FilledContourPlot()` Documentation: https://unidata.github.io/MetPy/latest/api/generated/metpy.plots.FilledContourPlot.html"
   ]
  },
  {
   "cell_type": "code",
   "execution_count": null,
   "metadata": {},
   "outputs": [],
   "source": [
    "# Set attributes for plotting contours\n",
    "cntr = declarative.ContourPlot()\n",
    "cntr.data = ds\n",
    "cntr.field = 'Pressure_reduced_to_MSL_msl'\n",
    "cntr.level = None\n",
    "cntr.time = None\n",
    "cntr.contours = range(0, 2000, 4)\n",
    "cntr.clabels = True\n",
    "cntr.plot_units = 'hPa'\n",
    "cntr.smooth_field = 4 # Smooth the contours\n",
    "\n",
    "# Set attributes for plotting filled contours\n",
    "cfill = declarative.FilledContourPlot()\n",
    "cfill.data = ds\n",
    "cfill.field = 'Temperature_height_above_ground'\n",
    "cfill.level = 2 * units.m\n",
    "cfill.time = None\n",
    "cfill.contours = range(-38, 103, 2)\n",
    "cfill.colormap = 'coolwarm'\n",
    "cfill.colorbar = 'horizontal'\n",
    "cfill.plot_units = 'degF'\n",
    "\n",
    "# Set attributes for plotting wind barbs\n",
    "barbs = declarative.BarbPlot()\n",
    "barbs.data = ds\n",
    "barbs.time = None\n",
    "barbs.field = ['u-component_of_wind_height_above_ground',\n",
    "               'v-component_of_wind_height_above_ground']\n",
    "barbs.level = 10 * units.m\n",
    "barbs.skip = (6, 6)\n",
    "barbs.plot_units = 'knot'\n",
    "\n",
    "# Set the attributes for the map\n",
    "# and put the contours on the map\n",
    "panel = declarative.MapPanel()\n",
    "panel.area = [-125, -74, 22, 52]\n",
    "panel.projection = 'lcc'\n",
    "panel.layers = ['states', 'coastline', 'borders']\n",
    "panel.left_title = f'MSLP (hPa), 2-m TMPF, 10-m Wind Barbs (kts)'\n",
    "panel.right_title = f'Valid Time: {date:%d %B %Y %H UTC}'\n",
    "panel.plots = [cntr, cfill, barbs]\n",
    "\n",
    "# Set the attributes for the panel\n",
    "# and put the panel in the figure\n",
    "pc = declarative.PanelContainer()\n",
    "pc.size = (15, 15)\n",
    "pc.panels = [panel]\n",
    "\n",
    "# Show the figure\n",
    "pc.show()"
   ]
  },
  {
   "cell_type": "code",
   "execution_count": null,
   "metadata": {},
   "outputs": [],
   "source": []
  }
 ],
 "metadata": {
  "kernelspec": {
   "display_name": "Python 3 (ipykernel)",
   "language": "python",
   "name": "python3"
  },
  "language_info": {
   "codemirror_mode": {
    "name": "ipython",
    "version": 3
   },
   "file_extension": ".py",
   "mimetype": "text/x-python",
   "name": "python",
   "nbconvert_exporter": "python",
   "pygments_lexer": "ipython3",
   "version": "3.11.3"
  }
 },
 "nbformat": 4,
 "nbformat_minor": 4
}
