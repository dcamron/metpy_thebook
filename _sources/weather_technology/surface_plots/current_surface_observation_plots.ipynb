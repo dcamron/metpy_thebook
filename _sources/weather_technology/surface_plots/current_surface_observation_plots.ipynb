{
 "cells": [
  {
   "attachments": {},
   "cell_type": "markdown",
   "metadata": {},
   "source": [
    "# Surface Data and Plotting using MetPy\n",
    "This notebook demonstrates reading surface data and plotting it using MetPy's declarative syntax.\n",
    "\n",
    "To make a plot of surface observations requires three elements\n",
    "* `PlotObs()` to specify the observations to be plotted\n",
    "* `MapPanel()` to specify the characteristics of the map to plot the observations on\n",
    "* `PanelContainer()` to collect one or more panels.\n",
    "\n",
    "These three elements are separate parts of the declarative module from MetPy. In Python we call these parts\n",
    "Classes and note that they contain MiXeD case names. These classes contain a number of attributes that can \n",
    "be set to specify what and how to plot the data in a figure. The descriptions of some of the basic\n",
    "elements of each element are given below."
   ]
  },
  {
   "attachments": {},
   "cell_type": "markdown",
   "metadata": {},
   "source": [
    "## Import Modules\n",
    "\n",
    "Here we'll import those modules that are needed to produce read in remote surface METAR observation data, process those observations, and plot the values on a map."
   ]
  },
  {
   "cell_type": "code",
   "execution_count": null,
   "metadata": {},
   "outputs": [],
   "source": [
    "from datetime import datetime, timedelta\n",
    "from io import StringIO\n",
    "from urllib.request import urlopen\n",
    "\n",
    "from metpy.io import metar\n",
    "from metpy.plots import declarative\n",
    "from metpy.units import units"
   ]
  },
  {
   "attachments": {},
   "cell_type": "markdown",
   "metadata": {},
   "source": [
    "## Read Data\n",
    "\n",
    "The surface data are in METAR format and store the data files at this location for approximately two weeks.\n",
    "\n",
    "The format of the filenames are `YYYYMMDDHH_sao.wmo` where `YYYY` is the year, `MM` is the month, `DD` is the day, and `HH` is the hour."
   ]
  },
  {
   "cell_type": "code",
   "execution_count": null,
   "metadata": {},
   "outputs": [],
   "source": [
    "date = datetime.utcnow()\n",
    "\n",
    "# Remote Access - Read current METAR files\n",
    "data = StringIO(urlopen('http://bergeron.valpo.edu/current_surface_data/'\n",
    "                        f'{date:%Y%m%d%H}_sao.wmo').read().decode('utf-8', 'backslashreplace'))\n",
    "# Local Access\n",
    "# data = f'/data/ldmdata/surface/sao/{date:%Y%m%d%H}_sao.wmo'\n",
    "\n",
    "df = metar.parse_metar_file(data, year=date.year, month=date.month)"
   ]
  },
  {
   "attachments": {},
   "cell_type": "markdown",
   "metadata": {},
   "source": [
    "## Plot Data\n",
    "\n",
    "Here we seek to use the data that were just read in to plot the `air_temperature` variable in units of Fahrenheit. Since surface observations can be associated with a range of times, we can set the `time_window` attribute to look over a range of times. These temperatures will be plotted on a map over a small geographic location and a title is added to the map."
   ]
  },
  {
   "cell_type": "code",
   "execution_count": null,
   "metadata": {},
   "outputs": [],
   "source": [
    "# Plot desired data\n",
    "obs = declarative.PlotObs()\n",
    "obs.data = df\n",
    "obs.time = date\n",
    "obs.time_window = timedelta(minutes=30)\n",
    "obs.fields = ['air_temperature']\n",
    "obs.plot_units = ['degF']\n",
    "\n",
    "# Panel for plot with Map features\n",
    "panel = declarative.MapPanel()\n",
    "panel.layout = (1, 1, 1)\n",
    "panel.projection = 'lcc'\n",
    "panel.area = 'in'\n",
    "panel.layers = ['states']\n",
    "panel.title = f'Air temperature on {date:%Y%m%d} at {date:%H}UTC'\n",
    "panel.plots = [obs]\n",
    "\n",
    "# Bringing it all together\n",
    "pc = declarative.PanelContainer()\n",
    "pc.size = (10, 10)\n",
    "pc.panels = [panel]\n",
    "\n",
    "pc.show()"
   ]
  },
  {
   "cell_type": "code",
   "execution_count": null,
   "metadata": {},
   "outputs": [],
   "source": []
  }
 ],
 "metadata": {
  "kernelspec": {
   "display_name": "Python 3 (ipykernel)",
   "language": "python",
   "name": "python3"
  },
  "language_info": {
   "codemirror_mode": {
    "name": "ipython",
    "version": 3
   },
   "file_extension": ".py",
   "mimetype": "text/x-python",
   "name": "python",
   "nbconvert_exporter": "python",
   "pygments_lexer": "ipython3",
   "version": "3.10.5"
  }
 },
 "nbformat": 4,
 "nbformat_minor": 4
}
