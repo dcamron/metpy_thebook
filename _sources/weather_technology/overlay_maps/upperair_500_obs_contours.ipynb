{
 "cells": [
  {
   "cell_type": "markdown",
   "metadata": {},
   "source": [
    "# Overlay Observations and Contours\n",
    "\n",
    "Using the declarative syntax to plot upperair observations and overlay contours."
   ]
  },
  {
   "cell_type": "markdown",
   "metadata": {},
   "source": [
    "## Import Packages\n",
    "\n",
    "Here we'll need to import all of the packages to read both observation\n",
    "data and some form of gridded data. Here we'll plot some upperair maps,\n",
    "so we'll read current observations from Iowa State archive with current\n",
    "GFS model output to have the computer draw contours."
   ]
  },
  {
   "cell_type": "code",
   "execution_count": null,
   "metadata": {},
   "outputs": [],
   "source": [
    "from datetime import datetime, timedelta, time\n",
    "\n",
    "import cartopy.crs as ccrs\n",
    "from metpy.io import add_station_lat_lon\n",
    "from metpy.plots import declarative\n",
    "from metpy.units import units\n",
    "import numpy as np\n",
    "from siphon.simplewebservice.iastate import IAStateUpperAir\n",
    "import xarray as xr"
   ]
  },
  {
   "cell_type": "markdown",
   "metadata": {},
   "source": [
    "## Get Observations Data\n",
    "\n",
    "Here we'll get the observation data from the Iowa State archive,\n",
    "add some latitude/longitude data to those observations and remove an\n",
    "errant data point that got tagged as 'KVER'."
   ]
  },
  {
   "cell_type": "code",
   "execution_count": null,
   "metadata": {},
   "outputs": [],
   "source": [
    "# Set the date/time of the model run\n",
    "# The following code will get you yesterday at 12 UTC\n",
    "yesterday = datetime.utcnow() - timedelta(days=1)\n",
    "date = datetime.combine(yesterday, time(12))\n",
    "\n",
    "# Request data using Siphon request for data from Iowa State Archive\n",
    "data = IAStateUpperAir.request_all_data(date)\n",
    "\n",
    "# Add lat/lon information to dataframe, drop missing station lat/lons\n",
    "df = add_station_lat_lon(data, data.station.name).dropna(subset=['latitude', 'longitude'])\n",
    "df = df[df.station != 'KVER']"
   ]
  },
  {
   "cell_type": "markdown",
   "metadata": {},
   "source": [
    "## Get Gridded Data\n",
    "\n",
    "Here we'll get the associated gridded output to be able to draw contours\n",
    "from Unidata. Here we use the one degree GFS output.= and subset to being over\n",
    "the CONUS."
   ]
  },
  {
   "cell_type": "code",
   "execution_count": null,
   "metadata": {},
   "outputs": [],
   "source": [
    "# Get GFS data for contouring\n",
    "ds = xr.open_dataset('https://thredds.ucar.edu/thredds/dodsC/grib/NCEP/GFS/'\n",
    "                     f'Global_onedeg_ana/GFS_Global_onedeg_ana_{date:%Y%m%d_%H%M}.grib2')\n",
    "\n",
    "# Subset data to be just over the CONUS\n",
    "ds = ds.sel(lat=slice(80, 10), lon=slice(360-140, 360-40))"
   ]
  },
  {
   "cell_type": "markdown",
   "metadata": {},
   "source": [
    "## Plot Obs and Contours\n",
    "\n",
    "To plot our overlay all we need to do is set up both our attributes for plotting\n",
    "the observations and for drawing contours, then add both pieces and put it on a\n",
    "map figure."
   ]
  },
  {
   "cell_type": "code",
   "execution_count": null,
   "metadata": {},
   "outputs": [],
   "source": [
    "# Add point observations\n",
    "obs = declarative.PlotObs()\n",
    "obs.data = df\n",
    "obs.level = 500 * units.hPa\n",
    "obs.time = date\n",
    "obs.fields = ['temperature', 'dewpoint', 'height']\n",
    "obs.locations = ['NW', 'SW', 'ENE']\n",
    "obs.vector_field = ['u_wind', 'v_wind']\n",
    "obs.vector_field_length = 7\n",
    "\n",
    "# Add contours of geopotential height\n",
    "cntr = declarative.ContourPlot()\n",
    "cntr.data = ds\n",
    "cntr.level = obs.level\n",
    "cntr.time = date\n",
    "cntr.field = 'Geopotential_height_isobaric'\n",
    "cntr.clabels = True\n",
    "cntr.contours = range(0, 10000, 60)\n",
    "cntr.smooth_field = 3\n",
    "cntr.smooth_contour = 5\n",
    "\n",
    "# Set map panel features\n",
    "panel = declarative.MapPanel()\n",
    "panel.projection = 'lcc'\n",
    "panel.area = [-124, -72, 22, 53]\n",
    "panel.layers = ['ocean', 'lakes', 'land', 'states', 'borders', 'coastline']\n",
    "panel.left_title = f'{obs.level.m}-hPa Observations and Geopotential Height'\n",
    "panel.right_title = f'Valid Time: {date}'\n",
    "panel.title_fontsize = 14\n",
    "panel.plots = [cntr, obs]\n",
    "\n",
    "# Add map panel to figure\n",
    "pc = declarative.PanelContainer()\n",
    "pc.size = (18, 18)\n",
    "pc.panels = [panel]\n",
    "\n",
    "pc.show()"
   ]
  },
  {
   "cell_type": "code",
   "execution_count": null,
   "metadata": {},
   "outputs": [],
   "source": []
  }
 ],
 "metadata": {
  "kernelspec": {
   "display_name": "Python 3 (ipykernel)",
   "language": "python",
   "name": "python3"
  },
  "language_info": {
   "codemirror_mode": {
    "name": "ipython",
    "version": 3
   },
   "file_extension": ".py",
   "mimetype": "text/x-python",
   "name": "python",
   "nbconvert_exporter": "python",
   "pygments_lexer": "ipython3",
   "version": "3.11.3"
  }
 },
 "nbformat": 4,
 "nbformat_minor": 4
}
