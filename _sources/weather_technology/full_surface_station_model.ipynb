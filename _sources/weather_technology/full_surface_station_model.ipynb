{
 "cells": [
  {
   "attachments": {},
   "cell_type": "markdown",
   "metadata": {},
   "source": [
    "# Full Surface Station Model Plotting\n"
   ]
  },
  {
   "attachments": {},
   "cell_type": "markdown",
   "metadata": {},
   "source": [
    "## Import\n",
    "Import the needed modules"
   ]
  },
  {
   "cell_type": "code",
   "execution_count": null,
   "metadata": {},
   "outputs": [],
   "source": [
    "from datetime import datetime, timedelta\n",
    "from io import StringIO\n",
    "from urllib.request import urlopen\n",
    "\n",
    "from metpy.io import metar\n",
    "from metpy.plots import declarative\n",
    "from metpy.units import units\n",
    "import pandas as pd"
   ]
  },
  {
   "attachments": {},
   "cell_type": "markdown",
   "metadata": {},
   "source": [
    "## Read Data\n",
    "\n",
    "Here we gain access to surface data from the Iowa State Archive. To do so we construct the appropriate `data_url` that requires a start and end date. To create that we utilize the time we desire and add/subtract time from there to create a time window. From there we use the [Pandas](https://pandas.pydata.org/pandas-docs/stable/index.html) module method [`read_csv()`](https://pandas.pydata.org/pandas-docs/stable/reference/api/pandas.read_csv.html) to read in all of the data, then parse the METAR observations using MetPy."
   ]
  },
  {
   "cell_type": "code",
   "execution_count": null,
   "metadata": {},
   "outputs": [],
   "source": [
    "date = datetime(2022, 1, 4, 12)\n",
    "\n",
    "# Remote Access - Archive Data Read with pandas from Iowa State Archive, note differences from METAR files\n",
    "dt = timedelta(minutes=15)\n",
    "sdate = date - dt\n",
    "edate = date + dt\n",
    "data_url = ('http://mesonet.agron.iastate.edu/cgi-bin/request/asos.py?'\n",
    "            'data=all&tz=Etc/UTC&format=comma&latlon=yes&'\n",
    "            f'year1={sdate.year}&month1={sdate.month}&day1={sdate.day}'\n",
    "            f'&hour1={sdate.hour}&minute1={sdate.minute}&'\n",
    "            f'year2={edate.year}&month2={edate.month}&day2={edate.day}'\n",
    "            f'&hour2={edate.hour}&minute2={edate.minute}')\n",
    "data = pd.read_csv(data_url, skiprows=5, na_values=['M'],\n",
    "                   low_memory=False).replace('T', 0.00001).groupby('station').tail(1)\n",
    "df = metar.parse_metar_file(StringIO('\\n'.join(val for val in data.metar)),\n",
    "                            year=date.year, month=date.month)\n",
    "df['date_time'] = date\n",
    "\n",
    "df['tmpf'] = (df.air_temperature.values * units.degC).to('degF')\n",
    "df['dwpf'] = (df.dew_point_temperature.values * units.degC).to('degF')"
   ]
  },
  {
   "attachments": {},
   "cell_type": "markdown",
   "metadata": {},
   "source": [
    "## Plot Data\n",
    "Here we exploit the full range of observations to plot around our station model to get a \"full\" surface station plot. In order to plot cloud cover and the current weather, we must use the formats to specify the \"font\" to use, which is part of MetPy. We could go further and change colors, fontsize, etc., but that is left as an excercise for the reader."
   ]
  },
  {
   "cell_type": "code",
   "execution_count": null,
   "metadata": {},
   "outputs": [],
   "source": [
    "mslp_formatter = lambda v: format(v*10, '.0f')[-3:]\n",
    "\n",
    "# Plot desired data\n",
    "obs = declarative.PlotObs()\n",
    "obs.data = df\n",
    "obs.time = date\n",
    "obs.time_window = timedelta(minutes=15)\n",
    "obs.level = None\n",
    "obs.fields = ['cloud_coverage', 'tmpf', 'dwpf',\n",
    "              'air_pressure_at_sea_level', 'current_wx1_symbol']\n",
    "obs.locations = ['C', 'NW', 'SW', 'NE', 'W']\n",
    "obs.formats = ['sky_cover', None, None, mslp_formatter, 'current_weather']\n",
    "obs.reduce_points = 0.75\n",
    "obs.vector_field = ['eastward_wind', 'northward_wind']\n",
    "\n",
    "# Panel for plot with Map features\n",
    "panel = declarative.MapPanel()\n",
    "panel.layout = (1, 1, 1)\n",
    "panel.projection = 'lcc'\n",
    "panel.area = 'in'\n",
    "panel.layers = ['states']\n",
    "panel.plots = [obs]\n",
    "\n",
    "# Bringing it all together\n",
    "pc = declarative.PanelContainer()\n",
    "pc.size = (10, 10)\n",
    "pc.panels = [panel]\n",
    "\n",
    "pc.show()"
   ]
  },
  {
   "cell_type": "code",
   "execution_count": null,
   "metadata": {},
   "outputs": [],
   "source": []
  }
 ],
 "metadata": {
  "kernelspec": {
   "display_name": "Python 3 (ipykernel)",
   "language": "python",
   "name": "python3"
  },
  "language_info": {
   "codemirror_mode": {
    "name": "ipython",
    "version": 3
   },
   "file_extension": ".py",
   "mimetype": "text/x-python",
   "name": "python",
   "nbconvert_exporter": "python",
   "pygments_lexer": "ipython3",
   "version": "3.10.5"
  }
 },
 "nbformat": 4,
 "nbformat_minor": 4
}
